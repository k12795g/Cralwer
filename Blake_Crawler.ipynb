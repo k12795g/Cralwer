{
 "cells": [
  {
   "cell_type": "code",
   "execution_count": 2,
   "metadata": {
    "scrolled": false
   },
   "outputs": [
    {
     "name": "stdout",
     "output_type": "stream",
     "text": [
      "---貼上要爬蟲的頁面的第一頁，注意網址要顯示格式為....../page/，輸入為空則結束\n",
      "---https://blake.com.tw/blog/category/taiwan/%E5%8D%97%E6%8A%95%E7%BE%8E%E9%A3%9F%E6%97%85%E8%A1%8C/page/\n",
      "---輸入爬取的網頁資料類型，食|衣|住|行|生活|育樂|醫療|養生\n",
      "---食\n",
      "NO.1 饗富餐廳｜南投竹山紫南宮附近甕仔雞推薦竟然還有滬川台菜可以選擇\n",
      "NO.2 竹香園甕缸雞｜南投竹山吃烤雞就吃這一家，有專屬停車場外還近竹山交流道與紫南宮\n",
      "NO.3 雲香園過橋米線｜清境山上玻璃屋景觀餐廳專賣雲南料理大推招牌菜檸檬包燒魚\n",
      "NO.4 清境宇星山莊｜可以看到山景與擁有三層兒童遊戲室的超狂清境親子民宿\n",
      "NO.5 清境美食要吃甚麼？｜9間清境必吃美食與必買伴手禮土雞城跟雲南料理都有\n",
      "NO.6 雞大王活蝦啤酒城｜海拔最高評價最多的清境烤雞餐廳可以點合菜桌菜\n",
      "NO.7 清境魯媽媽雲南擺夷料理｜來清境一定要來吃的雲南料理竟然是超美景觀餐廳\n",
      "---貼上要爬蟲的頁面的第一頁，注意網址要顯示格式為....../page/，輸入為空則結束\n",
      "---\n",
      "---輸入爬取的網頁資料類型，食|衣|住|行|生活|育樂|醫療|養生\n",
      "---\n"
     ]
    }
   ],
   "source": [
    "#爬布雷克網站用的\n",
    "# {\n",
    "#     'Page-Title' : {\n",
    "#         'Title' : 'Page-Title',\n",
    "#         'Type' : '食|衣|住|行|生活|育樂|醫療|養生',\n",
    "#         'Author' : '網誌作者，如果有的話，沒有的話存成 無 ',\n",
    "#         'Date' : '文章發布日期',\n",
    "#         'Body' : '要用的文章，後續斷句使用',\n",
    "#         'Url' : '文章的連結'\n",
    "#     },\n",
    "# }\n",
    "import requests\n",
    "import json\n",
    "from bs4 import BeautifulSoup\n",
    "href=[]\n",
    "Title=''\n",
    "Author=''\n",
    "Date=''\n",
    "text=''\n",
    "Page_Title={}\n",
    "Page_data={'Title':'','Type':'','Author':'無','Date' : '文章發布日期','Body' : '要用的文章，後續斷句使用','Url' : '文章的連結'}\n",
    "\n",
    "def Set_Data(url,Type):   \n",
    "    Number=1\n",
    "    count=0\n",
    "    while (True):\n",
    "        r=requests.get(url+str(Number))\n",
    "        soup=BeautifulSoup(r.text,\"html.parser\")\n",
    "        sel = soup.select(\"div.container div#content h2 a\") #各文章的標題連結html\n",
    "        if (not sel): break\n",
    "        for i in sel:\n",
    "            count+=1\n",
    "            text=''#初始化合併過的內文\n",
    "            page=i.get('href')\n",
    "            page_r=requests.get(page)#開啟前面select/get到的網址\n",
    "            page_soup=BeautifulSoup(page_r.text,\"html.parser\")\n",
    "            for a in page_soup.select(\"div.post-header span.cat a\"): #用以排除重複的標籤\n",
    "                if (\"景點住宿\" in a.text or \"台灣住宿\" in a.text):\n",
    "                    continue\n",
    "            Title=page_soup.select(\"div.post-header h1\")[0].text\n",
    "            Author=page_soup.select(\"div.author-content a\")[0].text\n",
    "            Date=page_soup.select(\"div.post-header span.post-date\")[0].text\n",
    "            Body_P=page_soup.select(\"div.post-entry p\")\n",
    "            for p in Body_P:#用以合併所有文本，排除圖片\n",
    "                if not p.find('img'):\n",
    "                    text+=p.text\n",
    "            Page_data={'Title':Title,'Type':Type,'Author':Author,'Date' : Date[1:],'Body' : text}\n",
    "            Page_Title[Title]=Page_data\n",
    "            print(\"NO.\"+str(count)+\" \"+Title)\n",
    "\n",
    "        Number+=1\n",
    "    \n",
    "# print(Title)\n",
    "# print(Author)\n",
    "# print(Date[1:])\n",
    "# print(text)\n",
    "while(1 ):\n",
    "    print(\"---貼上要爬蟲的頁面的第一頁，注意網址要顯示格式為....../page/，輸入為空則結束\\n---\",end='')\n",
    "    url=input()\n",
    "    print(\"---輸入爬取的網頁資料類型，食|衣|住|行|生活|育樂|醫療|養生\\n---\",end='')\n",
    "    Type=input()\n",
    "    if (not url): break\n",
    "    Set_Data(url,Type)"
   ]
  },
  {
   "cell_type": "code",
   "execution_count": 7,
   "metadata": {},
   "outputs": [
    {
     "name": "stdout",
     "output_type": "stream",
     "text": [
      "輸入創建的檔名，預設為'Crawl_from_Blake'\n",
      "\n",
      "Crawl_from_Blake\n"
     ]
    }
   ],
   "source": [
    "\n",
    "print(\"輸入創建的檔名，預設為'Crawl_from_Blake'\\n\",end='')\n",
    "name=input()\n",
    "if (not name):\n",
    "    name=\"Crawl_from_Blake\"\n",
    "    print(name)\n",
    "with open(name+\".json\",\"w\",encoding='utf-8')as f:\n",
    "    json.dump(Page_Title,f,indent=4,ensure_ascii=False) #存檔"
   ]
  },
  {
   "cell_type": "code",
   "execution_count": 19,
   "metadata": {},
   "outputs": [],
   "source": [
    "with open(\"布雷克出走旅行視界_台灣住宿&景點住宿.json\") as f:\n",
    "    p=json.load(f)\n",
    "with open('布雷克出走旅行視界_台灣住宿&景點住宿_縮排.json',\"w\",encoding='utf-8')as f:\n",
    "    json.dump(p,f,indent=4,ensure_ascii=False)\n",
    "#修改編碼等等的區塊"
   ]
  },
  {
   "cell_type": "code",
   "execution_count": 37,
   "metadata": {},
   "outputs": [
    {
     "name": "stdout",
     "output_type": "stream",
     "text": [
      "<class 'dict'>\n"
     ]
    }
   ],
   "source": [
    "with open(\"布雷克出走旅行視界_食.json\",encoding='UTF-8') as f:\n",
    "    p=json.load(f) \n",
    "with open(\"布雷克出走旅行視界_食_2.json\",encoding='UTF-8') as f2:\n",
    "    p2=json.load(f2)\n",
    "p.update(p2)\n",
    "print(type(p))\n",
    "for i in p:\n",
    "    p[i]['Type']=\"食\"\n",
    "with open('布雷克出走旅行視界_台灣住宿_食_總和.json',\"w\",encoding='utf-8')as f:\n",
    "    json.dump(p,f,indent=4,ensure_ascii=False)\n",
    "#修改錯誤標籤以及合併兩檔案"
   ]
  }
 ],
 "metadata": {
  "kernelspec": {
   "display_name": "Python 3 (ipykernel)",
   "language": "python",
   "name": "python3"
  },
  "language_info": {
   "codemirror_mode": {
    "name": "ipython",
    "version": 3
   },
   "file_extension": ".py",
   "mimetype": "text/x-python",
   "name": "python",
   "nbconvert_exporter": "python",
   "pygments_lexer": "ipython3",
   "version": "3.9.12"
  }
 },
 "nbformat": 4,
 "nbformat_minor": 2
}

{
 "cells": [
  {
   "cell_type": "code",
   "execution_count": 20,
   "id": "f7e6f71c",
   "metadata": {},
   "outputs": [
    {
     "name": "stdout",
     "output_type": "stream",
     "text": [
      "<Response [200]>\n",
      "https://www.edh.tw/article/19141\n"
     ]
    }
   ],
   "source": [
    "import requests\n",
    "import json\n",
    "import re\n",
    "from bs4 import BeautifulSoup\n",
    "import re\n",
    "import emoji\n",
    "from datetime import datetime\n",
    "\n",
    "#https://www.edh.tw/category/3/index/1 網頁列表\n",
    "#https://www.edh.tw/article/19141 文章範例\n",
    "\n",
    "r=requests.get('https://www.edh.tw/category/3/index/1')\n",
    "print(r)\n",
    "# 創建BeautifulSoup對象\n",
    "soup = BeautifulSoup(r.text, 'html.parser')\n",
    "\n",
    "print('https://www.edh.tw'+soup.select('div.slideout-panel div.grid-article a')[0].get('href')) #網址取得方式\n",
    "\n",
    "\n"
   ]
  }
 ],
 "metadata": {
  "kernelspec": {
   "display_name": "Python 3 (ipykernel)",
   "language": "python",
   "name": "python3"
  },
  "language_info": {
   "codemirror_mode": {
    "name": "ipython",
    "version": 3
   },
   "file_extension": ".py",
   "mimetype": "text/x-python",
   "name": "python",
   "nbconvert_exporter": "python",
   "pygments_lexer": "ipython3",
   "version": "3.9.12"
  }
 },
 "nbformat": 4,
 "nbformat_minor": 5
}

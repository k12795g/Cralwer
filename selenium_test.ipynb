{
 "cells": [
  {
   "cell_type": "code",
   "execution_count": 2,
   "id": "cf195c59",
   "metadata": {},
   "outputs": [
    {
     "ename": "NameError",
     "evalue": "name 'links' is not defined",
     "output_type": "error",
     "traceback": [
      "\u001b[1;31m---------------------------------------------------------------------------\u001b[0m",
      "\u001b[1;31mNameError\u001b[0m                                 Traceback (most recent call last)",
      "Input \u001b[1;32mIn [2]\u001b[0m, in \u001b[0;36m<cell line: 37>\u001b[1;34m()\u001b[0m\n\u001b[0;32m     34\u001b[0m news_contents \u001b[38;5;241m=\u001b[39m []\n\u001b[0;32m     36\u001b[0m \u001b[38;5;66;03m# 逐一点击进入每条新闻并记录其内容\u001b[39;00m\n\u001b[1;32m---> 37\u001b[0m \u001b[38;5;28;01mfor\u001b[39;00m link \u001b[38;5;129;01min\u001b[39;00m \u001b[43mlinks\u001b[49m:\n\u001b[0;32m     38\u001b[0m     \u001b[38;5;66;03m# 点击进入新闻页面\u001b[39;00m\n\u001b[0;32m     39\u001b[0m     link\u001b[38;5;241m.\u001b[39mclick()\n\u001b[0;32m     41\u001b[0m     \u001b[38;5;66;03m# 等待新闻页面加载完成\u001b[39;00m\n",
      "\u001b[1;31mNameError\u001b[0m: name 'links' is not defined"
     ]
    }
   ],
   "source": [
    "import time\n",
    "from selenium import webdriver\n",
    "from selenium.webdriver.chrome.service import Service\n",
    "# 创建一个 webdriver 对象，指定使用 Chrome 浏览器\n",
    "service=Service('/path/to/chromedriver')\n",
    "driver = webdriver.Chrome(service=service)\n",
    "driver.get('https://blake.com.tw/blog/category/taiwan/hotel')\n",
    "while True:\n",
    "    # 获取当前页面高度\n",
    "    height = driver.execute_script('return document.body.scrollHeight')\n",
    "    \n",
    "    # 执行 JavaScript 代码来滚动页面\n",
    "    driver.execute_script('window.scrollTo(0, document.body.scrollHeight);')\n",
    "    \n",
    "    # 等待页面加载新内容\n",
    "    time.sleep(2)\n",
    "    \n",
    "    # 获取新的页面高度\n",
    "    new_height = driver.execute_script('return document.body.scrollHeight')\n",
    "    \n",
    "    # 如果页面高度没有变化，说明已经到达页面底部\n",
    "    if new_height == height:\n",
    "        break\n",
    "    \n",
    "    # 更新页面高度\n",
    "    height = new_height\n",
    "    \n",
    "    # 检查是否已经加载出足够数量的新闻\n",
    "    links = driver.find_elements_by_xpath('//a[@class=\"news-link\"]')\n",
    "    if len(links) >= 1000:\n",
    "        break\n",
    "\n",
    "# 记录所有新闻的内容\n",
    "news_contents = []\n",
    "\n",
    "# 逐一点击进入每条新闻并记录其内容\n",
    "for link in links:\n",
    "    # 点击进入新闻页面\n",
    "    link.click()\n",
    "    \n",
    "    # 等待新闻页面加载完成\n",
    "    time.sleep(2)\n",
    "    \n",
    "    # 获取新闻页面的 HTML 源代码\n",
    "    html = driver.page_source\n",
    "    \n",
    "    # 使用 BeautifulSoup 解析 HTML 源代码\n",
    "    soup = BeautifulSoup(html, 'html.parser')\n",
    "    \n",
    "    # 提取新闻内容\n",
    "    content = soup.find('div', class_='news-content').text\n",
    "    news_contents.append(content)\n",
    "    \n",
    "    # 返回瀑布流新闻网站\n",
    "    driver.back()\n",
    "    \n",
    "# 关闭浏览器窗口\n",
    "driver.quit()"
   ]
  },
  {
   "cell_type": "code",
   "execution_count": null,
   "id": "300cc785",
   "metadata": {},
   "outputs": [],
   "source": []
  }
 ],
 "metadata": {
  "kernelspec": {
   "display_name": "Python 3 (ipykernel)",
   "language": "python",
   "name": "python3"
  },
  "language_info": {
   "codemirror_mode": {
    "name": "ipython",
    "version": 3
   },
   "file_extension": ".py",
   "mimetype": "text/x-python",
   "name": "python",
   "nbconvert_exporter": "python",
   "pygments_lexer": "ipython3",
   "version": "3.9.12"
  }
 },
 "nbformat": 4,
 "nbformat_minor": 5
}
